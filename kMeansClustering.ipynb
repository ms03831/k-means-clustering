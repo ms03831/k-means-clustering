{
 "cells": [
  {
   "cell_type": "code",
   "execution_count": 1,
   "metadata": {},
   "outputs": [],
   "source": [
    "import random"
   ]
  },
  {
   "cell_type": "code",
   "execution_count": 11,
   "metadata": {},
   "outputs": [],
   "source": [
    "\n",
    "def initializePoints(count):\n",
    "    points = []\n",
    "    for i in range(int(count/3)):\n",
    "     points.append([random.gauss(0,10),random.gauss(100,10)])\n",
    "    for i in range(int(count/3)):\n",
    "     points.append([random.gauss(-30,20),random.gauss(10,10)])\n",
    "    for i in range(int(count/3)):\n",
    "     points.append([random.gauss(30,20),random.gauss(10,10)])\n",
    "\n",
    "    return points\n"
   ]
  },
  {
   "cell_type": "code",
   "execution_count": 12,
   "metadata": {},
   "outputs": [],
   "source": [
    "def cluster(points,K,visuals = True):\n",
    "    clusters=[]\n",
    "    \n",
    "    #Your kmeans code will go here to cluster given points in K clsuters. If visuals = True, the code will also plot graphs to show the current state of clustering\n",
    "    \n",
    "    return clusters"
   ]
  },
  {
   "cell_type": "code",
   "execution_count": 13,
   "metadata": {},
   "outputs": [],
   "source": [
    "def clusterQuality(clusters):\n",
    "    score = -1\n",
    "    #Your code to compute the quality of cluster will go here.\n",
    "    \n",
    "    return score"
   ]
  },
  {
   "cell_type": "code",
   "execution_count": 14,
   "metadata": {},
   "outputs": [],
   "source": [
    "def keepClustering(points,K,N,visuals):\n",
    "    clusters = []\n",
    "    \n",
    "    #Write you code to run clustering N times and return the formation having the best quality\n",
    "    \n",
    "    return clusters\n",
    "    "
   ]
  },
  {
   "cell_type": "code",
   "execution_count": 15,
   "metadata": {},
   "outputs": [
    {
     "name": "stdout",
     "output_type": "stream",
     "text": [
      "The score of best Kmeans clustering is: -1\n"
     ]
    }
   ],
   "source": [
    "K = 3\n",
    "N = 10\n",
    "points = initializePoints(1000)\n",
    "\n",
    "clusters = keepClustering(points,K,N,True)\n",
    "\n",
    "print (\"The score of best Kmeans clustering is:\", clusterQuality(clusters))\n"
   ]
  },
  {
   "cell_type": "code",
   "execution_count": null,
   "metadata": {},
   "outputs": [],
   "source": []
  },
  {
   "cell_type": "code",
   "execution_count": null,
   "metadata": {},
   "outputs": [],
   "source": []
  }
 ],
 "metadata": {
  "kernelspec": {
   "display_name": "Python 3",
   "language": "python",
   "name": "python3"
  },
  "language_info": {
   "codemirror_mode": {
    "name": "ipython",
    "version": 3
   },
   "file_extension": ".py",
   "mimetype": "text/x-python",
   "name": "python",
   "nbconvert_exporter": "python",
   "pygments_lexer": "ipython3",
   "version": "3.7.3"
  }
 },
 "nbformat": 4,
 "nbformat_minor": 4
}
